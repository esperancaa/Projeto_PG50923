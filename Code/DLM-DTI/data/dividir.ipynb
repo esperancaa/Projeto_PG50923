{
 "cells": [
  {
   "cell_type": "code",
   "execution_count": 4,
   "metadata": {},
   "outputs": [],
   "source": [
    "import pandas as pd\n",
    "from sklearn.model_selection import train_test_split\n",
    "\n",
    "# Carregue o conjunto de dados completo\n",
    "dataset = pd.read_csv(\"/home/resperanca/Projeto/data/KIBA.csv\")\n",
    "\n",
    "# Remova as colunas \"compound_id\" e \"protein_id\"\n",
    "dataset.drop(columns=[\"COMPOUND_ID\", \"PROTEIN_ID\"], inplace=True)\n",
    "\n",
    "# Defina o limite\n",
    "limite = 12\n",
    "\n",
    "# Transforme a coluna \"Label\" em binária\n",
    "dataset['REG_LABEL'] = dataset['REG_LABEL'].apply(lambda x: 1 if x > limite else 0)\n",
    "\n",
    "# Divida o conjunto de dados em treinamento (80%) e o restante (20%)\n",
    "train_data, test_valid_data = train_test_split(dataset, test_size=0.2, random_state=42)\n",
    "\n",
    "# Divida o restante (20%) em conjuntos de teste (50%) e validação (50%)\n",
    "test_data, valid_data = train_test_split(test_valid_data, test_size=0.5, random_state=42)\n",
    "\n",
    "# Mapeie os novos nomes das colunas\n",
    "new_column_names = {\n",
    "    \"REG_LABEL\": \"Label\",\n",
    "    \"PROTEIN_SEQUENCE\": \"Target Sequence\",\n",
    "    \"COMPOUND_SMILES\": \"SMILES\"\n",
    "}\n",
    "\n",
    "# Renomeie as colunas nos DataFrames\n",
    "train_data = train_data.rename(columns=new_column_names)\n",
    "valid_data = valid_data.rename(columns=new_column_names)\n",
    "test_data = test_data.rename(columns=new_column_names)\n",
    "\n",
    "\n",
    "# Salve os conjuntos de dados com os novos nomes das colunas\n",
    "train_data.to_csv(\"KIBA_train.csv\", index=False)\n",
    "valid_data.to_csv(\"KIBA_valid.csv\", index=False)\n",
    "test_data.to_csv(\"KIBA_test.csv\", index=False)\n",
    "\n",
    "\n",
    "\n"
   ]
  }
 ],
 "metadata": {
  "kernelspec": {
   "display_name": "DLM",
   "language": "python",
   "name": "python3"
  },
  "language_info": {
   "codemirror_mode": {
    "name": "ipython",
    "version": 3
   },
   "file_extension": ".py",
   "mimetype": "text/x-python",
   "name": "python",
   "nbconvert_exporter": "python",
   "pygments_lexer": "ipython3",
   "version": "3.12.3"
  }
 },
 "nbformat": 4,
 "nbformat_minor": 2
}
