{
 "cells": [
  {
   "cell_type": "code",
   "execution_count": 1,
   "id": "ae413901",
   "metadata": {
    "scrolled": true
   },
   "outputs": [
    {
     "data": {
      "text/plain": [
       "0      MLKFKYGARNPLDAGAAEPIASRASRLNLFFQGKPPFMTQQQMSPL...\n",
       "1      MRHSKRTYCPDWDDKDWDYGKWRSSSSHKRRKRSHSSAQENKRCKY...\n",
       "2      MRHSKRTHCPDWDSRESWGHESYRGSHKRKRRSHSSTQENRHCKPH...\n",
       "3      MAPFLRIAFNSYELGSLQAEDEANQPFCAVKMKEALSTERGKTLVQ...\n",
       "4      MVVFNGLLKIKICEAVSLKPTAWSLRHAVGPRPQTFLLDPYIALNV...\n",
       "                             ...                        \n",
       "424    MEKDGLCRADQQYECVAEIGEGAYGKVFKARDLKNGGRFVALKRVR...\n",
       "425    EESEEEEEEEEEEEEETGSNSEEASEQSAEEVSEEEMSEDEERENE...\n",
       "426    MAAILGDTIMVAKGLVKLTQAAVETHLQHLGIGGELIMAARALQST...\n",
       "427    MKRSEKPEGYRQMRPKTFPASNYTVSSRQMLQEIRESLRNLSKPSD...\n",
       "428    MAEPSGSPVHVQLPQQAAPVTAAAAAAPAAATAAPAPAAPAAPAPA...\n",
       "Name: Target Sequence, Length: 429, dtype: object"
      ]
     },
     "execution_count": 1,
     "metadata": {},
     "output_type": "execute_result"
    }
   ],
   "source": [
    "import pandas as pd\n",
    "\n",
    "df1 = pd.read_csv(\"data/train_dataset.csv\")\n",
    "df2 = pd.read_csv(\"data/valid_dataset.csv\")\n",
    "df3 = pd.read_csv(\"data/test_dataset.csv\")\n",
    "\n",
    "df = pd.concat([df1, df2, df3]).reset_index(drop=True)\n",
    "df = df.loc[:, \"Target Sequence\"].drop_duplicates().reset_index(drop=True)\n",
    "df"
   ]
  },
  {
   "cell_type": "code",
   "execution_count": 2,
   "id": "7bc7ca3d",
   "metadata": {
    "scrolled": true
   },
   "outputs": [
    {
     "name": "stderr",
     "output_type": "stream",
     "text": [
      "/home/resperanca/miniconda3/envs/DLM/lib/python3.12/site-packages/tqdm/auto.py:21: TqdmWarning: IProgress not found. Please update jupyter and ipywidgets. See https://ipywidgets.readthedocs.io/en/stable/user_install.html\n",
      "  from .autonotebook import tqdm as notebook_tqdm\n"
     ]
    },
    {
     "data": {
      "text/plain": [
       "BertModel(\n",
       "  (embeddings): BertEmbeddings(\n",
       "    (word_embeddings): Embedding(30, 1024, padding_idx=0)\n",
       "    (position_embeddings): Embedding(40000, 1024)\n",
       "    (token_type_embeddings): Embedding(2, 1024)\n",
       "    (LayerNorm): LayerNorm((1024,), eps=1e-12, elementwise_affine=True)\n",
       "    (dropout): Dropout(p=0.0, inplace=False)\n",
       "  )\n",
       "  (encoder): BertEncoder(\n",
       "    (layer): ModuleList(\n",
       "      (0-29): 30 x BertLayer(\n",
       "        (attention): BertAttention(\n",
       "          (self): BertSdpaSelfAttention(\n",
       "            (query): Linear(in_features=1024, out_features=1024, bias=True)\n",
       "            (key): Linear(in_features=1024, out_features=1024, bias=True)\n",
       "            (value): Linear(in_features=1024, out_features=1024, bias=True)\n",
       "            (dropout): Dropout(p=0.0, inplace=False)\n",
       "          )\n",
       "          (output): BertSelfOutput(\n",
       "            (dense): Linear(in_features=1024, out_features=1024, bias=True)\n",
       "            (LayerNorm): LayerNorm((1024,), eps=1e-12, elementwise_affine=True)\n",
       "            (dropout): Dropout(p=0.0, inplace=False)\n",
       "          )\n",
       "        )\n",
       "        (intermediate): BertIntermediate(\n",
       "          (dense): Linear(in_features=1024, out_features=4096, bias=True)\n",
       "          (intermediate_act_fn): GELUActivation()\n",
       "        )\n",
       "        (output): BertOutput(\n",
       "          (dense): Linear(in_features=4096, out_features=1024, bias=True)\n",
       "          (LayerNorm): LayerNorm((1024,), eps=1e-12, elementwise_affine=True)\n",
       "          (dropout): Dropout(p=0.0, inplace=False)\n",
       "        )\n",
       "      )\n",
       "    )\n",
       "  )\n",
       "  (pooler): BertPooler(\n",
       "    (dense): Linear(in_features=1024, out_features=1024, bias=True)\n",
       "    (activation): Tanh()\n",
       "  )\n",
       ")"
      ]
     },
     "execution_count": 2,
     "metadata": {},
     "output_type": "execute_result"
    }
   ],
   "source": [
    "import pickle\n",
    "import torch\n",
    "import pandas as pd\n",
    "import transformers\n",
    "from tqdm import tqdm\n",
    "from transformers import AutoModel, BertTokenizer, RobertaTokenizer\n",
    "\n",
    "prot_tokenizer = BertTokenizer.from_pretrained(\"Rostlab/prot_bert_bfd\", do_lower_case=False)\n",
    "prot_encoder = AutoModel.from_pretrained(\"Rostlab/prot_bert_bfd\").to(\"cuda\")\n",
    "prot_encoder.eval()"
   ]
  },
  {
   "cell_type": "code",
   "execution_count": 4,
   "id": "9270d296",
   "metadata": {
    "scrolled": true
   },
   "outputs": [
    {
     "name": "stderr",
     "output_type": "stream",
     "text": [
      "100%|██████████| 429/429 [00:25<00:00, 16.91it/s]\n"
     ]
    }
   ],
   "source": [
    "import os\n",
    "os.makedirs('prot_feat', exist_ok=True)\n",
    "\n",
    "for max_length in [702]:\n",
    "    results = {}\n",
    "\n",
    "    for data in tqdm(df, total=len(df)):\n",
    "        seq = prot_tokenizer(\" \".join(data), max_length=max_length + 2, truncation=True, return_tensors=\"pt\").to(\"cuda\")\n",
    "        a = prot_encoder(**seq)\n",
    "        a = a.last_hidden_state.detach().to(\"cpu\")\n",
    "        results[data[:20]] = a[:, 0]\n",
    "\n",
    "    with open(f\"prot_feat/{max_length}_cls.pkl\", \"wb\") as f:\n",
    "        pickle.dump(results, f)"
   ]
  },
  {
   "cell_type": "code",
   "execution_count": 1,
   "id": "c7be99bb",
   "metadata": {},
   "outputs": [],
   "source": [
    "import torch\n",
    "\n",
    "# Limpar a memória da GPU\n",
    "torch.cuda.empty_cache()\n"
   ]
  }
 ],
 "metadata": {
  "kernelspec": {
   "display_name": "Python 3 (ipykernel)",
   "language": "python",
   "name": "python3"
  },
  "language_info": {
   "codemirror_mode": {
    "name": "ipython",
    "version": 3
   },
   "file_extension": ".py",
   "mimetype": "text/x-python",
   "name": "python",
   "nbconvert_exporter": "python",
   "pygments_lexer": "ipython3",
   "version": "3.12.3"
  }
 },
 "nbformat": 4,
 "nbformat_minor": 5
}
